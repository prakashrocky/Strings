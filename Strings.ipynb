{
  "nbformat": 4,
  "nbformat_minor": 0,
  "metadata": {
    "colab": {
      "provenance": []
    },
    "kernelspec": {
      "name": "python3",
      "display_name": "Python 3"
    },
    "language_info": {
      "name": "python"
    }
  },
  "cells": [
    {
      "cell_type": "code",
      "execution_count": 1,
      "metadata": {
        "colab": {
          "base_uri": "https://localhost:8080/"
        },
        "id": "YVSTM7fGOTQc",
        "outputId": "234a70b5-c1f9-454d-c09e-4eaa7216d614"
      },
      "outputs": [
        {
          "output_type": "stream",
          "name": "stdout",
          "text": [
            "Enter your name: Prakash\n",
            "Enter your age: 20\n",
            "Hello, Prakash! You are 20 years old.\n"
          ]
        }
      ],
      "source": [
        "name = input(\"Enter your name: \")\n",
        "age = input(\"Enter your age: \")\n",
        "print(\"Hello, {}! You are {} years old.\".format(name, age))"
      ]
    },
    {
      "cell_type": "code",
      "source": [
        "length = int(input(\"Enter the length of the rectangle: \"))\n",
        "width = int(input(\"Enter the width of the rectangle: \"))\n",
        "area = length * width\n",
        "print(\"The area of the rectangle is:\", area)"
      ],
      "metadata": {
        "colab": {
          "base_uri": "https://localhost:8080/"
        },
        "id": "JYZQJUNBPdtC",
        "outputId": "a8b04e88-5f3a-4851-9674-a9163c73cf22"
      },
      "execution_count": 2,
      "outputs": [
        {
          "output_type": "stream",
          "name": "stdout",
          "text": [
            "Enter the length of the rectangle: 10\n",
            "Enter the width of the rectangle: 20\n",
            "The area of the rectangle is: 200\n"
          ]
        }
      ]
    },
    {
      "cell_type": "code",
      "source": [
        "a = input(\"Enter a string: \")\n",
        "length = len(a)\n",
        "print(\"The length of the string is:\", length)"
      ],
      "metadata": {
        "colab": {
          "base_uri": "https://localhost:8080/"
        },
        "id": "Q9KAoCEVQG_B",
        "outputId": "32bc4696-889f-4ffc-afef-6ba90ae6ecf1"
      },
      "execution_count": 4,
      "outputs": [
        {
          "output_type": "stream",
          "name": "stdout",
          "text": [
            "Enter a string: python\n",
            "The length of the string is: 6\n"
          ]
        }
      ]
    },
    {
      "cell_type": "code",
      "source": [
        "num1 = float(input(\"Enter the first number: \"))\n",
        "num2 = float(input(\"Enter the second number: \"))\n",
        "if num1 > num2:\n",
        "    print(\"{num1} is greater than {num2}\")\n",
        "elif num1 < num2:\n",
        "    print(\"{num1} is less than {num2}\")\n",
        "else:\n",
        "    print(\"{num1} is equal to {num2}\")\n"
      ],
      "metadata": {
        "colab": {
          "base_uri": "https://localhost:8080/"
        },
        "id": "7BbcxtcoQozH",
        "outputId": "06049ad5-819b-4ebc-b3f8-45d3f37db336"
      },
      "execution_count": 5,
      "outputs": [
        {
          "output_type": "stream",
          "name": "stdout",
          "text": [
            "Enter the first number: 10\n",
            "Enter the second number: 20\n",
            "{num1} is less than {num2}\n"
          ]
        }
      ]
    },
    {
      "cell_type": "code",
      "source": [
        "user_input = input(\"Enter a string: \")\n",
        "reversed_string = user_input[::-1]\n",
        "print(\"The reversed string is:\", reversed_string)"
      ],
      "metadata": {
        "colab": {
          "base_uri": "https://localhost:8080/"
        },
        "id": "xBgakqF-RqEI",
        "outputId": "e6703db2-4f42-44c9-968d-7bebba063d27"
      },
      "execution_count": 6,
      "outputs": [
        {
          "output_type": "stream",
          "name": "stdout",
          "text": [
            "Enter a string: float\n",
            "The reversed string is: taolf\n"
          ]
        }
      ]
    },
    {
      "cell_type": "code",
      "source": [
        "xyz = input(\"Enter a string: \")\n",
        "if \"e\" in xyz:\n",
        "    print(\"The string contains the letter e.\")\n",
        "else:\n",
        "    print(\"The string does not contain the letter e.\")"
      ],
      "metadata": {
        "colab": {
          "base_uri": "https://localhost:8080/"
        },
        "id": "xbZd1JWnSNct",
        "outputId": "f6529d1b-8796-4df0-c558-d397940d1ddb"
      },
      "execution_count": 7,
      "outputs": [
        {
          "output_type": "stream",
          "name": "stdout",
          "text": [
            "Enter a string: hello\n",
            "The string contains the letter e.\n"
          ]
        }
      ]
    },
    {
      "cell_type": "code",
      "source": [
        "password = input(\"Enter a password: \")\n",
        "if len(password) < 8:\n",
        "    print(\"Password too short.\")\n",
        "else:\n",
        "    print(\"Password accepted.\")"
      ],
      "metadata": {
        "colab": {
          "base_uri": "https://localhost:8080/"
        },
        "id": "vW-PUFk3Slpc",
        "outputId": "9a0017d3-f864-4bce-f19c-95f2ee7e0d8e"
      },
      "execution_count": 8,
      "outputs": [
        {
          "output_type": "stream",
          "name": "stdout",
          "text": [
            "Enter a password: 1234567890\n",
            "Password accepted.\n"
          ]
        }
      ]
    },
    {
      "cell_type": "code",
      "source": [
        "number = int(input(\"Enter a number between 1 and 10: \"))\n",
        "if 1 <= number <= 10:\n",
        "    print(\"Valid input.\")\n",
        "else:\n",
        "    print(\"Invalid input.\")"
      ],
      "metadata": {
        "colab": {
          "base_uri": "https://localhost:8080/"
        },
        "id": "O-n3cDltVyEV",
        "outputId": "c600f634-8ea9-4ed9-96f6-f2382b270e50"
      },
      "execution_count": 9,
      "outputs": [
        {
          "output_type": "stream",
          "name": "stdout",
          "text": [
            "Enter a number between 1 and 10: 8\n",
            "Valid input.\n"
          ]
        }
      ]
    },
    {
      "cell_type": "code",
      "source": [
        "input = input(\"Enter a string: \")\n",
        "if input.lower().startswith(\"a\"):\n",
        "    print(\"The string starts with the letter a.\")\n",
        "else:\n",
        "    print(\"The string does not start with the letter a.\")"
      ],
      "metadata": {
        "colab": {
          "base_uri": "https://localhost:8080/"
        },
        "id": "5nXKN_lHWN1B",
        "outputId": "17cb9277-2c67-48c5-c262-c90325f7d800"
      },
      "execution_count": 10,
      "outputs": [
        {
          "output_type": "stream",
          "name": "stdout",
          "text": [
            "Enter a string: apple\n",
            "The string starts with the letter a.\n"
          ]
        }
      ]
    },
    {
      "cell_type": "code",
      "source": [
        "value= int(input(\"Enter a number: \"))\n",
        "if value > 0:\n",
        "    print(\"The number is positive.\")\n",
        "elif value < 0:\n",
        "    print(\"The number is negative.\")\n",
        "else:\n",
        "    print(\"The number is zero.\")"
      ],
      "metadata": {
        "colab": {
          "base_uri": "https://localhost:8080/",
          "height": 211
        },
        "id": "lzLrmOnHWyHf",
        "outputId": "89f9db38-3fe8-4fe8-b877-c2647e2542d4"
      },
      "execution_count": 14,
      "outputs": [
        {
          "output_type": "error",
          "ename": "TypeError",
          "evalue": "'str' object is not callable",
          "traceback": [
            "\u001b[0;31m---------------------------------------------------------------------------\u001b[0m",
            "\u001b[0;31mTypeError\u001b[0m                                 Traceback (most recent call last)",
            "\u001b[0;32m<ipython-input-14-1fbc67b79a59>\u001b[0m in \u001b[0;36m<cell line: 1>\u001b[0;34m()\u001b[0m\n\u001b[0;32m----> 1\u001b[0;31m \u001b[0mvalue\u001b[0m\u001b[0;34m=\u001b[0m \u001b[0mint\u001b[0m\u001b[0;34m(\u001b[0m\u001b[0minput\u001b[0m\u001b[0;34m(\u001b[0m\u001b[0;34m\"Enter a number: \"\u001b[0m\u001b[0;34m)\u001b[0m\u001b[0;34m)\u001b[0m\u001b[0;34m\u001b[0m\u001b[0;34m\u001b[0m\u001b[0m\n\u001b[0m\u001b[1;32m      2\u001b[0m \u001b[0;32mif\u001b[0m \u001b[0mvalue\u001b[0m \u001b[0;34m>\u001b[0m \u001b[0;36m0\u001b[0m\u001b[0;34m:\u001b[0m\u001b[0;34m\u001b[0m\u001b[0;34m\u001b[0m\u001b[0m\n\u001b[1;32m      3\u001b[0m     \u001b[0mprint\u001b[0m\u001b[0;34m(\u001b[0m\u001b[0;34m\"The number is positive.\"\u001b[0m\u001b[0;34m)\u001b[0m\u001b[0;34m\u001b[0m\u001b[0;34m\u001b[0m\u001b[0m\n\u001b[1;32m      4\u001b[0m \u001b[0;32melif\u001b[0m \u001b[0mvalue\u001b[0m \u001b[0;34m<\u001b[0m \u001b[0;36m0\u001b[0m\u001b[0;34m:\u001b[0m\u001b[0;34m\u001b[0m\u001b[0;34m\u001b[0m\u001b[0m\n\u001b[1;32m      5\u001b[0m     \u001b[0mprint\u001b[0m\u001b[0;34m(\u001b[0m\u001b[0;34m\"The number is negative.\"\u001b[0m\u001b[0;34m)\u001b[0m\u001b[0;34m\u001b[0m\u001b[0;34m\u001b[0m\u001b[0m\n",
            "\u001b[0;31mTypeError\u001b[0m: 'str' object is not callable"
          ]
        }
      ]
    }
  ]
}